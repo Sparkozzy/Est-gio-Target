{
  "nbformat": 4,
  "nbformat_minor": 0,
  "metadata": {
    "colab": {
      "provenance": []
    },
    "kernelspec": {
      "name": "python3",
      "display_name": "Python 3"
    },
    "language_info": {
      "name": "python"
    }
  },
  "cells": [
    {
      "cell_type": "markdown",
      "source": [
        "1) Observe o trecho de código abaixo: int INDICE = 13, SOMA = 0, K = 0;\n",
        "Enquanto K < INDICE faça { K = K + 1; SOMA = SOMA + K; }\n",
        "Imprimir(SOMA);\n",
        "Ao final do processamento, qual será o valor da variável SOMA?\n"
      ],
      "metadata": {
        "id": "bp-oPoHAJBp_"
      }
    },
    {
      "cell_type": "code",
      "source": [
        "indice=13\n",
        "soma=0\n",
        "k=0\n",
        "while k<indice:\n",
        "  k=k+1\n",
        "  soma=soma+k\n",
        "print(soma)"
      ],
      "metadata": {
        "id": "i6A4c9AGJBaf"
      },
      "execution_count": null,
      "outputs": []
    },
    {
      "cell_type": "markdown",
      "source": [
        "2) Dado a sequência de Fibonacci, onde se inicia por 0 e 1 e o próximo valor sempre será a soma dos 2 valores anteriores (exemplo: 0, 1, 1, 2, 3, 5, 8, 13, 21, 34...), escreva um programa na linguagem que desejar onde, informado um número, ele calcule a sequência de Fibonacci e retorne uma mensagem avisando se o número informado pertence ou não a sequência."
      ],
      "metadata": {
        "id": "UNUUod5GJM6_"
      }
    },
    {
      "cell_type": "code",
      "execution_count": null,
      "metadata": {
        "id": "70P2xBQxIolr"
      },
      "outputs": [],
      "source": [
        "def fib(n): #retorna o ultimo numero da sequencia\n",
        "    a = 0\n",
        "    b = 1\n",
        "    ultimo = 0\n",
        "    while a < n:\n",
        "        s = a + b\n",
        "        ultimo = a\n",
        "        a = b\n",
        "        b = s\n",
        "    return  ultimo\n",
        "\n",
        "def fib2(n): #mesmo resultado, mas em lista\n",
        "    a = 0\n",
        "    b = 1\n",
        "    resultado = []\n",
        "    while a < n:\n",
        "        resultado.append(a)\n",
        "        s = a + b\n",
        "        a = b\n",
        "        b = s\n",
        "    return resultado\n",
        "\n",
        "# print(fib(6))\n",
        "# print(fib2(6)) #testes\n",
        "\n",
        "x=int(input('digite um numero: '))\n",
        "\n",
        "if x in fib2(x+fib(x-1)):\n",
        "  print (fib2(x+fib(x-1)))\n",
        "  print('pertence')\n",
        "else:\n",
        "  print (fib2(x+fib(x-1)))\n",
        "  print('não pertence')"
      ]
    },
    {
      "cell_type": "markdown",
      "source": [
        "\n",
        "3) Dado um vetor que guarda o valor de faturamento diário de uma distribuidora, faça um programa, na linguagem que desejar, que calcule e retorne:\n",
        "• O menor valor de faturamento ocorrido em um dia do mês;\n",
        "• O maior valor de faturamento ocorrido em um dia do mês;\n",
        "• Número de dias no mês em que o valor de faturamento diário foi superior à média mensal.\n",
        "\n",
        "IMPORTANTE:\n",
        "a) Usar o json ou xml disponível como fonte dos dados do faturamento mensal;\n",
        "b) Podem existir dias sem faturamento, como nos finais de semana e feriados. Estes dias devem ser ignorados no cálculo da média;"
      ],
      "metadata": {
        "id": "JOhwPQ94Q7zp"
      }
    },
    {
      "cell_type": "code",
      "source": [
        "import json\n",
        "\n",
        "# Dados de faturamento fornecidos\n",
        "dados = [\n",
        "    {\"dia\": 1, \"valor\": 22174.1664},\n",
        "    {\"dia\": 2, \"valor\": 24537.6698},\n",
        "    {\"dia\": 3, \"valor\": 26139.6134},\n",
        "    {\"dia\": 4, \"valor\": 0.0},\n",
        "    {\"dia\": 5, \"valor\": 0.0},\n",
        "    {\"dia\": 6, \"valor\": 26742.6612},\n",
        "    {\"dia\": 7, \"valor\": 0.0},\n",
        "    {\"dia\": 8, \"valor\": 42889.2258},\n",
        "    {\"dia\": 9, \"valor\": 46251.174},\n",
        "    {\"dia\": 10, \"valor\": 11191.4722},\n",
        "    {\"dia\": 11, \"valor\": 0.0},\n",
        "    {\"dia\": 12, \"valor\": 0.0},\n",
        "    {\"dia\": 13, \"valor\": 3847.4823},\n",
        "    {\"dia\": 14, \"valor\": 373.7838},\n",
        "    {\"dia\": 15, \"valor\": 2659.7563},\n",
        "    {\"dia\": 16, \"valor\": 48924.2448},\n",
        "    {\"dia\": 17, \"valor\": 18419.2614},\n",
        "    {\"dia\": 18, \"valor\": 0.0},\n",
        "    {\"dia\": 19, \"valor\": 0.0},\n",
        "    {\"dia\": 20, \"valor\": 35240.1826},\n",
        "    {\"dia\": 21, \"valor\": 43829.1667},\n",
        "    {\"dia\": 22, \"valor\": 18235.6852},\n",
        "    {\"dia\": 23, \"valor\": 4355.0662},\n",
        "    {\"dia\": 24, \"valor\": 13327.1025},\n",
        "    {\"dia\": 25, \"valor\": 0.0},\n",
        "    {\"dia\": 26, \"valor\": 0.0},\n",
        "    {\"dia\": 27, \"valor\": 25681.8318},\n",
        "    {\"dia\": 28, \"valor\": 1718.1221},\n",
        "    {\"dia\": 29, \"valor\": 13220.495},\n",
        "    {\"dia\": 30, \"valor\": 8414.61}\n",
        "]\n",
        "\n",
        "faturamento_valido = [dia['valor'] for dia in dados if dia['valor'] > 0]\n",
        "\n",
        "menor_valor = min(faturamento_valido)\n",
        "\n",
        "maior_valor = max(faturamento_valido)\n",
        "\n",
        "media_faturamento = sum(faturamento_valido) / len(faturamento_valido)\n",
        "\n",
        "dias_acima_da_media = sum(1 for valor in faturamento_valido if valor > media_faturamento)\n",
        "\n",
        "print(f\"Menor valor de faturamento: {menor_valor:.2f}\")\n",
        "print(f\"Maior valor de faturamento: {maior_valor:.2f}\")\n",
        "print(f\"Número de dias com faturamento acima da média: {dias_acima_da_media}\")\n"
      ],
      "metadata": {
        "id": "WAa3HRzBS0Ix"
      },
      "execution_count": null,
      "outputs": []
    },
    {
      "cell_type": "markdown",
      "source": [
        "4) Dado o valor de faturamento mensal de uma distribuidora, detalhado por estado:\n",
        "• SP – R$67.836,43\n",
        "• RJ – R$36.678,66\n",
        "• MG – R$29.229,88\n",
        "• ES – R$27.165,48\n",
        "• Outros – R$19.849,53\n",
        "\n",
        "Escreva um programa na linguagem que desejar onde calcule o percentual de representação que cada estado teve dentro do valor total mensal da distribuidora."
      ],
      "metadata": {
        "id": "wDJzTY0KTt__"
      }
    },
    {
      "cell_type": "code",
      "source": [
        "faturamento_estados = {\n",
        "    'SP': 67836.43,\n",
        "    'RJ': 36678.66,\n",
        "    'MG': 29229.88,\n",
        "    'ES': 27165.48,\n",
        "    'Outros': 19849.53\n",
        "}\n",
        "\n",
        "faturamento_total = sum(faturamento_estados.values())\n",
        "\n",
        "for estado, valor in faturamento_estados.items():\n",
        "    percentual = (valor / faturamento_total) * 100\n",
        "    print(f\"{estado}: {percentual:.2f}%\")\n",
        "\n",
        "import matplotlib.pyplot as plt\n",
        "\n",
        "# Calcular porcentagens para o gráfico de pizza\n",
        "percentuais = [(valor / faturamento_total) * 100 for valor in faturamento_estados.values()]\n",
        "\n",
        "labels = faturamento_estados.keys()\n",
        "plt.figure(figsize=(8, 6))\n",
        "plt.pie(percentuais, labels=labels, autopct='%1.2f%%', startangle=90, colors=['#ff9999','#66b3ff','#99ff99','#ffcc99','#c2c2f0'])\n",
        "plt.axis('equal')\n",
        "plt.title('Percentual de Faturamento por Estado')\n",
        "plt.show()"
      ],
      "metadata": {
        "id": "sIwYiT9aUB6z"
      },
      "execution_count": null,
      "outputs": []
    },
    {
      "cell_type": "markdown",
      "source": [
        "5) Escreva um programa que inverta os caracteres de um string.\n",
        "\n",
        "IMPORTANTE:\n",
        "a) Essa string pode ser informada através de qualquer entrada de sua preferência ou pode ser previamente definida no código;\n",
        "b) Evite usar funções prontas, como, por exemplo, reverse;\n"
      ],
      "metadata": {
        "id": "iIhWNxT7VPMY"
      }
    },
    {
      "cell_type": "code",
      "source": [
        "# Função para inverter a string\n",
        "def inverter_string(texto):\n",
        "    texto_invertido = \"\"\n",
        "    for i in range(len(texto)-1, -1, -1):\n",
        "        texto_invertido += texto[i]\n",
        "\n",
        "    return texto_invertido\n",
        "\n",
        "entrada = input(\"Digite uma string para inverter: \")\n",
        "\n",
        "resultado = inverter_string(entrada)\n",
        "print(f\"String invertida: {resultado}\")\n"
      ],
      "metadata": {
        "id": "imGccd-wVOp_"
      },
      "execution_count": null,
      "outputs": []
    }
  ]
}